{
 "cells": [
  {
   "cell_type": "code",
   "execution_count": 1,
   "metadata": {
    "collapsed": true
   },
   "outputs": [],
   "source": [
    "import json\n",
    "import csv\n"
   ]
  },
  {
   "cell_type": "code",
   "execution_count": 2,
   "metadata": {},
   "outputs": [],
   "source": [
    "# libraries required for visualisation:\n",
    "from IPython.display import SVG, display\n",
    "import svgwrite # conda install -c omnia svgwrite=1.1.6\n",
    "import PIL\n",
    "from PIL import Image\n",
    "import matplotlib.pyplot as plt"
   ]
  },
  {
   "cell_type": "code",
   "execution_count": 11,
   "metadata": {
    "collapsed": true
   },
   "outputs": [],
   "source": [
    "def first_time(stroke):\n",
    "    return stroke[2][0]\n",
    "\n",
    "def last_time(stroke):\n",
    "    return stroke[2][len(stroke[2]) - 1]\n",
    "\n",
    "def min_time(stroke):\n",
    "    return min(stroke[2])\n",
    "\n",
    "def max_time(stroke):\n",
    "    return max(stroke[2])\n",
    "\n",
    "def mixed_up_time(stroke):\n",
    "    mixed_up = False\n",
    "    for idx, t in enumerate(stroke[2]):\n",
    "        if idx > 0:\n",
    "            if t < stroke[2][idx - 1]:\n",
    "                mixed_up = True\n",
    "    return mixed_up\n",
    "        \n",
    "        \n",
    "\n",
    "def total_time(stroke):\n",
    "    # stroke is an array of length 3\n",
    "    # 3rd (index 2) element is a list\n",
    "    # with t: t is the time in milliseconds since the first point.\n",
    "    first_t = first_time(stroke)\n",
    "    last_t = last_time(stroke)\n",
    "    return last_t - first_t\n",
    "\n",
    "def pause_before(drawing, stroke, stroke_index):\n",
    "    if (stroke_index == 0):\n",
    "        return 0\n",
    "    prev_stroke = drawing['drawing'][stroke_index - 1]\n",
    "    return first_time(stroke) - last_time(prev_stroke)\n",
    "\n",
    "\n",
    "def gen_stats_stroke(drawing, stroke, stroke_index):\n",
    "    \n",
    "    last_stroke = drawing['drawing'][len(drawing['drawing']) - 1]\n",
    "    stats = {\n",
    "        #\"key_id\": drawing['key_id'],\n",
    "        #\"recognized\": drawing['recognized'],\n",
    "        #\"word\": drawing['word'],\n",
    "        #\"countrycode\": drawing['countrycode'],\n",
    "        #\"drawing_time\": last_time(last_stroke),\n",
    "        #\"stroke_count\": len(drawing['drawing']),\n",
    "        \"stroke_index\": stroke_index,\n",
    "        \"stroke_time\": total_time(stroke),\n",
    "        \"stroke_time_first\": first_time(stroke),\n",
    "        \"stroke_time_last\": last_time(stroke),\n",
    "        \"stroke_time_pause\": pause_before(drawing, stroke, stroke_index),\n",
    "        \"stroke_time_min\": min_time(stroke),\n",
    "        \"stroke_time_max\": max_time(stroke),\n",
    "        \"stroke_time_mixedup\": mixed_up_time(stroke)\n",
    "    }\n",
    "    \n",
    "    return stats\n",
    "    \n",
    "    \n",
    "def gen_stats(drawing):\n",
    "    first_stroke = drawing['drawing'][0]\n",
    "    last_stroke = drawing['drawing'][len(drawing['drawing']) - 1]\n",
    "    stats = {\n",
    "        \"key_id\": drawing['key_id'],\n",
    "        \"recognized\": drawing['recognized'],\n",
    "        \"word\": drawing['word'],\n",
    "        \"stroke_count\": len(drawing['drawing']),\n",
    "        \"countrycode\": drawing['countrycode'],\n",
    "        \"drawing_time\": last_time(last_stroke) - first_time(first_stroke),\n",
    "    }\n",
    "    strokes = []\n",
    "    for idx, stroke in enumerate(drawing['drawing']):\n",
    "        strokes.append(gen_stats_stroke(drawing, stroke, idx))\n",
    "    #stats['strokes'] = strokes\n",
    "    pause_times = [s['stroke_time_pause'] for s in strokes]\n",
    "    stats['drawing_time_pause'] = sum(pause_times)\n",
    "    stroke_times = [s['stroke_time'] for s in strokes]\n",
    "    stats['drawing_time_draw'] = sum(stroke_times)\n",
    "    stats['stroke_in_order'] = sum([s['stroke_time_mixedup'] for s in strokes])\n",
    "    stats['drawing_time_min'] = min([s['stroke_time_min'] for s in strokes])\n",
    "    stats['drawing_time_max'] = max([s['stroke_time_max'] for s in strokes])\n",
    "    \n",
    "    return stats\n",
    "    \n",
    "    "
   ]
  },
  {
   "cell_type": "code",
   "execution_count": 107,
   "metadata": {
    "collapsed": true
   },
   "outputs": [],
   "source": []
  },
  {
   "cell_type": "code",
   "execution_count": 12,
   "metadata": {
    "collapsed": true
   },
   "outputs": [],
   "source": [
    "def save_stats(draw_id, filename):\n",
    "    #strokes = []\n",
    "    stats = []\n",
    "    with open(filename) as f:\n",
    "        for line in f:\n",
    "            drawing = json.loads(line)\n",
    "            drawing_stats = gen_stats(drawing)\n",
    "            stats.append(drawing_stats)\n",
    "            #for stroke in drawing_stats['strokes']:\n",
    "            #    strokes.append(stroke)\n",
    "    with open('./data/' + draw_id + '.stats.csv', 'w') as f: \n",
    "        w = csv.DictWriter(f, stats[0].keys())\n",
    "        w.writeheader()\n",
    "        w.writerows(stats)        "
   ]
  },
  {
   "cell_type": "code",
   "execution_count": 14,
   "metadata": {
    "collapsed": true
   },
   "outputs": [],
   "source": [
    "draw_id = 'cat'\n",
    "filename = \"/Users/vlandham/code/data/quickdraw/raw/\" + draw_id + \".ndjson\"\n",
    "save_stats(draw_id, filename)"
   ]
  },
  {
   "cell_type": "code",
   "execution_count": 10,
   "metadata": {
    "collapsed": true
   },
   "outputs": [],
   "source": [
    "problems = []\n",
    "with open(filename) as f:\n",
    "    for line in f:\n",
    "        drawing = json.loads(line)\n",
    "        #if (drawing['key_id'] == '6639331143843840'):\n",
    "        #    problems.append(drawing)\n",
    "        for stroke in drawing['drawing']:\n",
    "            for t in stroke[2]:\n",
    "                if t < 0:\n",
    "                    problems.append(drawing)"
   ]
  },
  {
   "cell_type": "code",
   "execution_count": 97,
   "metadata": {},
   "outputs": [
    {
     "data": {
      "text/plain": [
       "457"
      ]
     },
     "execution_count": 97,
     "metadata": {},
     "output_type": "execute_result"
    }
   ],
   "source": [
    "\n",
    "len(problems)"
   ]
  },
  {
   "cell_type": "code",
   "execution_count": 9,
   "metadata": {},
   "outputs": [
    {
     "ename": "NameError",
     "evalue": "name 'problems' is not defined",
     "output_type": "error",
     "traceback": [
      "\u001b[0;31m---------------------------------------------------------------------------\u001b[0m",
      "\u001b[0;31mNameError\u001b[0m                                 Traceback (most recent call last)",
      "\u001b[0;32m<ipython-input-9-7569beb79505>\u001b[0m in \u001b[0;36m<module>\u001b[0;34m()\u001b[0m\n\u001b[0;32m----> 1\u001b[0;31m \u001b[0mproblem_keys\u001b[0m \u001b[0;34m=\u001b[0m \u001b[0;34m[\u001b[0m\u001b[0mp\u001b[0m\u001b[0;34m[\u001b[0m\u001b[0;34m'key_id'\u001b[0m\u001b[0;34m]\u001b[0m \u001b[0;32mfor\u001b[0m \u001b[0mp\u001b[0m \u001b[0;32min\u001b[0m \u001b[0mproblems\u001b[0m\u001b[0;34m]\u001b[0m\u001b[0;34m\u001b[0m\u001b[0m\n\u001b[0m",
      "\u001b[0;31mNameError\u001b[0m: name 'problems' is not defined"
     ]
    }
   ],
   "source": [
    "problem_keys = [p['key_id'] for p in problems]"
   ]
  },
  {
   "cell_type": "code",
   "execution_count": 100,
   "metadata": {},
   "outputs": [
    {
     "name": "stdout",
     "output_type": "stream",
     "text": [
      "3\n"
     ]
    },
    {
     "data": {
      "text/plain": [
       "[0,\n",
       " 121,\n",
       " 138,\n",
       " 173,\n",
       " 191,\n",
       " 208,\n",
       " 225,\n",
       " 242,\n",
       " 259,\n",
       " 277,\n",
       " 296,\n",
       " 330,\n",
       " 364,\n",
       " 397,\n",
       " 414,\n",
       " 448,\n",
       " 500,\n",
       " 667,\n",
       " 719,\n",
       " 737,\n",
       " 753,\n",
       " 770,\n",
       " 787,\n",
       " 805,\n",
       " 822,\n",
       " 839,\n",
       " 856,\n",
       " 873,\n",
       " 890,\n",
       " 924,\n",
       " 1314,\n",
       " 1366,\n",
       " 1399,\n",
       " -17351,\n",
       " -17318,\n",
       " -17284,\n",
       " -17250,\n",
       " -17216,\n",
       " -17182,\n",
       " -17147,\n",
       " -17130,\n",
       " -17096,\n",
       " -17062,\n",
       " -17045,\n",
       " -17010,\n",
       " -16975,\n",
       " -16941,\n",
       " -16605,\n",
       " -16570,\n",
       " -16553,\n",
       " -16536,\n",
       " -16519,\n",
       " -16485,\n",
       " -16449,\n",
       " -16416,\n",
       " -16382,\n",
       " -16364,\n",
       " -16330,\n",
       " -16295,\n",
       " -16261,\n",
       " -16208,\n",
       " -16012,\n",
       " -15978,\n",
       " -15961,\n",
       " -15943,\n",
       " -15927,\n",
       " -15910,\n",
       " -15892,\n",
       " -15875,\n",
       " -15857,\n",
       " -15806,\n",
       " -15771,\n",
       " -15753,\n",
       " -15736,\n",
       " -15719,\n",
       " -15702,\n",
       " -15667,\n",
       " -15630,\n",
       " -15613,\n",
       " -15237,\n",
       " -15203,\n",
       " -15168,\n",
       " -15133,\n",
       " -15099,\n",
       " -15065,\n",
       " -15029,\n",
       " -15012,\n",
       " -14978,\n",
       " -14944,\n",
       " -14927,\n",
       " -14893,\n",
       " -14859,\n",
       " -14841,\n",
       " -14825,\n",
       " -14791,\n",
       " -14756,\n",
       " -14739,\n",
       " -14705,\n",
       " -14671,\n",
       " -14637,\n",
       " -14620,\n",
       " -14585,\n",
       " -14551,\n",
       " -14533,\n",
       " -14516,\n",
       " -14499,\n",
       " -14481,\n",
       " -14464,\n",
       " -14447,\n",
       " -14431,\n",
       " -14413,\n",
       " -14396,\n",
       " -14093,\n",
       " -14076,\n",
       " -14043,\n",
       " -14026,\n",
       " -14008,\n",
       " -13992,\n",
       " -13975,\n",
       " -13958,\n",
       " -13941,\n",
       " -13924,\n",
       " -13907,\n",
       " -13889,\n",
       " -13872,\n",
       " -13855,\n",
       " -13839,\n",
       " -13821,\n",
       " -13804,\n",
       " -13787,\n",
       " -13769,\n",
       " -13752,\n",
       " -13735,\n",
       " -13701,\n",
       " -13684,\n",
       " -13666,\n",
       " -13649,\n",
       " -13615,\n",
       " -13581,\n",
       " -13546,\n",
       " -13510,\n",
       " -13477,\n",
       " -13460,\n",
       " -13441,\n",
       " -13424,\n",
       " -13407,\n",
       " -13373,\n",
       " -13340,\n",
       " -13305,\n",
       " -13253,\n",
       " -13201,\n",
       " -13095]"
      ]
     },
     "execution_count": 100,
     "metadata": {},
     "output_type": "execute_result"
    }
   ],
   "source": [
    "problem = problems[2]\n",
    "print(len(problem['drawing'][0]))\n",
    "problem['drawing'][0][2]"
   ]
  }
 ],
 "metadata": {
  "kernelspec": {
   "display_name": "Python 3",
   "language": "python",
   "name": "python3"
  },
  "language_info": {
   "codemirror_mode": {
    "name": "ipython",
    "version": 3
   },
   "file_extension": ".py",
   "mimetype": "text/x-python",
   "name": "python",
   "nbconvert_exporter": "python",
   "pygments_lexer": "ipython3",
   "version": "3.6.1"
  }
 },
 "nbformat": 4,
 "nbformat_minor": 2
}
