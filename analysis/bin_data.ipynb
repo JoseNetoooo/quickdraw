{
 "cells": [
  {
   "cell_type": "code",
   "execution_count": 1,
   "metadata": {
    "collapsed": true
   },
   "outputs": [],
   "source": [
    "%matplotlib inline\n",
    "import json\n",
    "import pandas as pd\n",
    "import numpy as np\n",
    "import matplotlib"
   ]
  },
  {
   "cell_type": "code",
   "execution_count": 2,
   "metadata": {
    "collapsed": true
   },
   "outputs": [],
   "source": [
    "# filtering and variable generation\n",
    "def prepare_data(filename):\n",
    "    data = pd.read_csv(filename)\n",
    "    \n",
    "    print(data['key_id'].count())\n",
    "    \n",
    "    # filter\n",
    "    data = data[(data['stroke_in_order'] == 0) & \n",
    "     (data['drawing_time_min'] >= 0) & \n",
    "     (data['drawing_time_draw'] > 100)]\n",
    "    \n",
    "    print(data['key_id'].count())\n",
    "    \n",
    "    data = data[(data['recognized'] == True)]\n",
    "    print(data['key_id'].count())    \n",
    "    \n",
    "    # generate seconds data\n",
    "    data['dt_sec'] = data['drawing_time_draw'] / 1000.0\n",
    "    data['dt_sec_floor'] = np.floor(data['dt_sec'])\n",
    "    \n",
    "    \n",
    "    return data\n",
    "    "
   ]
  },
  {
   "cell_type": "code",
   "execution_count": 3,
   "metadata": {
    "collapsed": true
   },
   "outputs": [],
   "source": [
    "def bin_data(data):\n",
    "    groups = data.groupby('dt_sec_floor')\n",
    "    counts = groups['dt_sec_floor'].count()\n",
    "    sizes = counts.to_frame()\n",
    "    sizes = sizes.rename(columns = {'dt_sec_floor':'count'})\n",
    "    sizes = sizes.reset_index()\n",
    "    sizes = sizes.rename(columns = {'dt_sec_floor':'x0'})\n",
    "    alltotal = data['key_id'].count()\n",
    "\n",
    "    sizes['x1'] = sizes['x0'] + 1\n",
    "    sizes['freq'] = sizes['count'] / alltotal\n",
    "    #sizes = sizes.round({'freq': 3})\n",
    "\n",
    "    #sizes.describe()\n",
    "\n",
    "    return sizes"
   ]
  },
  {
   "cell_type": "code",
   "execution_count": 27,
   "metadata": {
    "collapsed": true
   },
   "outputs": [],
   "source": [
    "def to_hist(data):\n",
    "    hist = data.T.to_dict().values()\n",
    "    return list(hist)"
   ]
  },
  {
   "cell_type": "code",
   "execution_count": 31,
   "metadata": {},
   "outputs": [],
   "source": [
    "def get_drawings_dict(d_key):\n",
    "    filename = \"/Users/vlandham/code/data/quickdraw/simplified/\" + d_key + \".ndjson\"\n",
    "    \n",
    "    by_key_id = {}\n",
    "    with open(filename) as f:\n",
    "        for line in f:\n",
    "            drawing = json.loads(line)\n",
    "            by_key_id[drawing['key_id']] = drawing\n",
    "    return by_key_id\n",
    "\n",
    "\n",
    "\n",
    "def get_drawing_ids_dict(data, count, max_bin):\n",
    "    groups = data.groupby('dt_sec_floor')\n",
    "    drawing_ids = groups['key_id'].apply(lambda x:  x.sample(n = count) if len(x) > count else x.sample(n = len(x)))\n",
    "    drawing_ids = drawing_ids.reset_index()\n",
    "    drawing_id_dict = {}\n",
    "    for idx, row in drawing_ids.iterrows():\n",
    "    \n",
    "        key = int(row['dt_sec_floor'])\n",
    "        if (key not in drawing_id_dict):\n",
    "            drawing_id_dict[key] = []\n",
    "        drawing_id_dict[key].append(row['key_id'])\n",
    "    return drawing_id_dict\n",
    "    \n",
    "    \n",
    "def get_drawings(key_id, data, count, max_bin):\n",
    "    drawing_id_dict = get_drawing_ids_dict(data, count, max_bin)\n",
    "    \n",
    "    drawings_dict = get_drawings_dict(key_id)\n",
    "    \n",
    "    drawings = {}\n",
    "    \n",
    "    for key, ids in drawing_id_dict.items():\n",
    "        drawings[key] = []\n",
    "        for d_id in ids:\n",
    "            drawings[key].append(drawings_dict[str(int(d_id))])\n",
    "    return drawings\n",
    "        \n",
    "    "
   ]
  },
  {
   "cell_type": "code",
   "execution_count": 25,
   "metadata": {
    "collapsed": true
   },
   "outputs": [],
   "source": [
    "def write_results(output):\n",
    "    filename = \"data/\" + \"_\".join(output['keys']) + \"_out.json\"\n",
    "    with open(filename, 'w') as outfile:\n",
    "        json.dump(output, outfile)\n",
    "    "
   ]
  },
  {
   "cell_type": "code",
   "execution_count": 32,
   "metadata": {},
   "outputs": [
    {
     "name": "stdout",
     "output_type": "stream",
     "text": [
      "152159\n",
      "151962\n",
      "143102\n",
      "123202\n",
      "123077\n",
      "102943\n"
     ]
    }
   ],
   "source": [
    "keys = ['dog', 'cat']\n",
    "\n",
    "output = {\"keys\": keys}\n",
    "\n",
    "for key_id in keys:\n",
    "    \n",
    "    \n",
    "    filename = \"data/\" + key_id +\".stats.csv\"\n",
    "    data = prepare_data(filename)\n",
    "    bins = bin_data(data)\n",
    "    hist = to_hist(bins)\n",
    "    \n",
    "    output[key_id] = {}\n",
    "    output[key_id]['hist'] = hist\n",
    "    output[key_id]['drawings'] = get_drawings(key_id, data, 20, 25)\n"
   ]
  },
  {
   "cell_type": "code",
   "execution_count": 33,
   "metadata": {},
   "outputs": [],
   "source": [
    "write_results(output)"
   ]
  },
  {
   "cell_type": "code",
   "execution_count": null,
   "metadata": {
    "collapsed": true
   },
   "outputs": [],
   "source": [
    "def "
   ]
  },
  {
   "cell_type": "code",
   "execution_count": 14,
   "metadata": {},
   "outputs": [],
   "source": [
    "#get_drawings(key_id, data, 20, 25)\n",
    "ddd = get_drawings_dict('dog')"
   ]
  },
  {
   "cell_type": "code",
   "execution_count": 17,
   "metadata": {},
   "outputs": [
    {
     "data": {
      "text/plain": [
       "'6718004173733888'"
      ]
     },
     "execution_count": 17,
     "metadata": {},
     "output_type": "execute_result"
    }
   ],
   "source": [
    "list(ddd.keys())[0]"
   ]
  },
  {
   "cell_type": "code",
   "execution_count": 159,
   "metadata": {},
   "outputs": [
    {
     "data": {
      "text/plain": [
       "[6590923892850688.0,\n",
       " 6642421054046208.0,\n",
       " 5570970460880896.0,\n",
       " 5241625590628352.0,\n",
       " 4561006405615616.0,\n",
       " 5052854513434624.0,\n",
       " 4688048988094464.0,\n",
       " 6618756992204800.0,\n",
       " 6196053143453696.0,\n",
       " 5849672029569024.0,\n",
       " 6037578996252672.0,\n",
       " 5528859766161408.0,\n",
       " 5623599496953856.0,\n",
       " 6043774943756288.0,\n",
       " 4535688659730432.0,\n",
       " 5767540645036032.0,\n",
       " 6638410879991808.0,\n",
       " 5402468659757056.0,\n",
       " 5452123196096512.0,\n",
       " 4789399659216896.0]"
      ]
     },
     "execution_count": 159,
     "metadata": {},
     "output_type": "execute_result"
    }
   ],
   "source": [
    "\n",
    "### groups = data.groupby('dt_sec_floor')\n",
    "\n",
    "#id_groups = drawing_ids.groupby('dt_sec_floor')\n",
    "\n",
    "\n",
    "drawing_ids\n",
    "\n",
    "\n",
    "    #print(row['key_id'])\n",
    "len(drawing_id_dict.keys())\n",
    "#drawing_ids.droplevel(level=1)\n",
    "#for name in groups.index:\n",
    "#    print(name)\n",
    "\n",
    "drawing_id_dict[1]"
   ]
  },
  {
   "cell_type": "code",
   "execution_count": 117,
   "metadata": {},
   "outputs": [
    {
     "name": "stdout",
     "output_type": "stream",
     "text": [
      "0.0\n",
      "1.0\n",
      "2.0\n",
      "3.0\n",
      "4.0\n",
      "5.0\n",
      "6.0\n",
      "7.0\n",
      "8.0\n",
      "9.0\n",
      "10.0\n",
      "11.0\n",
      "12.0\n",
      "13.0\n",
      "14.0\n",
      "15.0\n",
      "16.0\n",
      "17.0\n",
      "18.0\n",
      "19.0\n",
      "20.0\n",
      "21.0\n",
      "22.0\n",
      "23.0\n",
      "24.0\n",
      "26.0\n",
      "27.0\n",
      "29.0\n",
      "30.0\n",
      "44.0\n",
      "69.0\n"
     ]
    }
   ],
   "source": [
    "\n",
    "hist = bins.T.to_dict().values()\n",
    "for val in hist:\n",
    "    print(val['x0'])\n",
    "#sizes.reset_index()\n",
    "#sizes.columns()\n",
    "#sizes = pd.DataFrame(data =counts)\n",
    "\n",
    "#counts.columns('x0', 'count')\n",
    "#sizes.columns('x0')\n",
    "#bins['freq'] = bins['key_id'] / data['key_id'].count()"
   ]
  },
  {
   "cell_type": "code",
   "execution_count": 119,
   "metadata": {
    "collapsed": true
   },
   "outputs": [],
   "source": [
    "output = {'keys': []}"
   ]
  },
  {
   "cell_type": "code",
   "execution_count": 97,
   "metadata": {},
   "outputs": [
    {
     "data": {
      "text/plain": [
       "<matplotlib.axes._subplots.AxesSubplot at 0x105521198>"
      ]
     },
     "execution_count": 97,
     "metadata": {},
     "output_type": "execute_result"
    },
    {
     "data": {
      "image/png": "[encoded data removed]",
      "text/plain": [
       "<matplotlib.figure.Figure at 0x10550fc18>"
      ]
     },
     "metadata": {},
     "output_type": "display_data"
    }
   ],
   "source": [
    "sizes.plot.bar(x = 'x0', y = 'freq')"
   ]
  },
  {
   "cell_type": "code",
   "execution_count": 8,
   "metadata": {
    "collapsed": true
   },
   "outputs": [],
   "source": []
  }
 ],
 "metadata": {
  "kernelspec": {
   "display_name": "Python 3",
   "language": "python",
   "name": "python3"
  },
  "language_info": {
   "codemirror_mode": {
    "name": "ipython",
    "version": 3
   },
   "file_extension": ".py",
   "mimetype": "text/x-python",
   "name": "python",
   "nbconvert_exporter": "python",
   "pygments_lexer": "ipython3",
   "version": "3.6.1"
  }
 },
 "nbformat": 4,
 "nbformat_minor": 2
}
