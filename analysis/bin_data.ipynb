{
 "cells": [
  {
   "cell_type": "code",
   "execution_count": 1,
   "metadata": {
    "collapsed": true
   },
   "outputs": [],
   "source": [
    "%matplotlib inline\n",
    "import json\n",
    "import pandas as pd\n",
    "import numpy as np\n",
    "import matplotlib"
   ]
  },
  {
   "cell_type": "code",
   "execution_count": 96,
   "metadata": {
    "collapsed": true
   },
   "outputs": [],
   "source": [
    "# filtering and variable generation\n",
    "def prepare_data(filename):\n",
    "    data = pd.read_csv(filename)\n",
    "    \n",
    "    print(data['key_id'].count())\n",
    "    \n",
    "    # filter\n",
    "    data = data[(data['stroke_in_order'] == 0) & \n",
    "     (data['drawing_time_min'] >= 0) & \n",
    "     (data['drawing_time_draw'] > 100)]\n",
    "    \n",
    "    print(data['key_id'].count())\n",
    "    \n",
    "    data = data[(data['recognized'] == True)]\n",
    "    print(data['key_id'].count())    \n",
    "    \n",
    "    # generate seconds data\n",
    "    data['dt_sec'] = data['drawing_time_draw'] / 1000.0\n",
    "    data['dt_sec_floor'] = np.floor(data['dt_sec'])\n",
    "    data['t_sec'] = data['drawing_time'] / 1000.0\n",
    "    data['t_sec_floor'] = np.floor(data['t_sec'])\n",
    "    data['dp_sec'] = data['drawing_time_pause'] / 1000.0\n",
    "    data['dp_sec_floor'] = np.floor(data['dp_sec'])\n",
    "    \n",
    "    data['stroke_count_floor'] = np.floor(data['stroke_count'])\n",
    "    \n",
    "    \n",
    "    \n",
    "    return data\n",
    "    "
   ]
  },
  {
   "cell_type": "code",
   "execution_count": 80,
   "metadata": {},
   "outputs": [],
   "source": [
    "def bin_data(data, metric):\n",
    "    print(metric)\n",
    "    metric_floor = metric + \"_floor\"\n",
    "    \n",
    "    \n",
    "    groups = data.groupby(metric_floor)\n",
    "    counts = groups[metric_floor].count()\n",
    "    \n",
    "    sizes = counts.to_frame()\n",
    "    sizes = sizes.rename(columns = {metric_floor:'count'})\n",
    "    #print(sizes)\n",
    "    sizes = sizes.reset_index()\n",
    "    sizes = sizes.rename(columns = {metric_floor:'x0'})\n",
    "    alltotal = data['key_id'].count()\n",
    "\n",
    "    sizes['x1'] = sizes['x0'] + 1\n",
    "    sizes['freq'] = sizes['count'] / alltotal\n",
    "    #sizes = sizes.round({'freq': 3})\n",
    "\n",
    "    #sizes.describe()\n",
    "\n",
    "    return sizes"
   ]
  },
  {
   "cell_type": "code",
   "execution_count": 81,
   "metadata": {
    "collapsed": true
   },
   "outputs": [],
   "source": [
    "def to_hist(data):\n",
    "    hist = list(data.T.to_dict().values())\n",
    "    for h in hist:\n",
    "        h['freq'] = round(h['freq'], 3)\n",
    "    return hist"
   ]
  },
  {
   "cell_type": "code",
   "execution_count": 112,
   "metadata": {},
   "outputs": [],
   "source": [
    "def get_drawings_dict(d_key):\n",
    "    filename = \"/Users/vlandham/code/data/quickdraw/simplified/\" + d_key + \".ndjson\"\n",
    "    \n",
    "    by_key_id = {}\n",
    "    with open(filename) as f:\n",
    "        for line in f:\n",
    "            drawing = json.loads(line)\n",
    "            by_key_id[drawing['key_id']] = drawing\n",
    "    return by_key_id\n",
    "\n",
    "\n",
    "\n",
    "def get_drawing_ids_dict(data, metric, count, max_bin):\n",
    "    \n",
    "    #metric = 'dt_sec_floor'\n",
    "    \n",
    "    groups = data.groupby(metric)\n",
    "    drawing_ids = groups['key_id'].apply(lambda x:  x.sample(n = count) if len(x) > count else x.sample(n = len(x)))\n",
    "    drawing_ids = drawing_ids.reset_index()\n",
    "    drawing_id_dict = {}\n",
    "    for idx, row in drawing_ids.iterrows():\n",
    "    \n",
    "        key = int(row[metric])\n",
    "        if (key not in drawing_id_dict):\n",
    "            drawing_id_dict[key] = []\n",
    "        drawing_id_dict[key].append(row['key_id'])\n",
    "    return drawing_id_dict\n",
    "    \n",
    "def combine_cords(stroke):\n",
    "    return list(zip(stroke[0], stroke[1]))\n",
    "\n",
    "def convert_drawing(drawing):\n",
    "    strokes = []\n",
    "    for stroke in drawing['drawing']:\n",
    "        strokes.append(combine_cords(stroke))\n",
    "    drawing['drawing'] = strokes\n",
    "    del(drawing['key_id'])\n",
    "    del(drawing['countrycode'])\n",
    "    del(drawing['timestamp'])\n",
    "    del(drawing['word'])\n",
    "    del(drawing['recognized'])\n",
    "    return drawing\n",
    "\n",
    "def get_drawings(key_id, metric_id, data, count, max_bin):\n",
    "    drawing_id_dict = get_drawing_ids_dict(data, metric_id, count, max_bin)\n",
    "    \n",
    "    drawings_dict = get_drawings_dict(key_id)\n",
    "    \n",
    "    drawings = {}\n",
    "    \n",
    "    for key, ids in drawing_id_dict.items():\n",
    "        drawings[key] = []\n",
    "        for d_id in ids:\n",
    "            drawings[key].append(convert_drawing(drawings_dict[str(int(d_id))]))\n",
    "    return drawings\n",
    "        \n",
    "    "
   ]
  },
  {
   "cell_type": "code",
   "execution_count": 104,
   "metadata": {
    "collapsed": true
   },
   "outputs": [],
   "source": [
    "def write_results(output):\n",
    "    filename = \"data/\" + \"_\".join(output['keys']) + \"_out.json\"\n",
    "    with open(filename, 'w') as outfile:\n",
    "        json.dump(output, outfile)\n",
    "    "
   ]
  },
  {
   "cell_type": "code",
   "execution_count": 118,
   "metadata": {},
   "outputs": [
    {
     "name": "stdout",
     "output_type": "stream",
     "text": [
      "dog\n",
      "152159\n",
      "151962\n",
      "143102\n",
      "dt_sec\n",
      "stroke_count\n",
      "cat\n",
      "123202\n",
      "123077\n",
      "102943\n",
      "dt_sec\n",
      "stroke_count\n",
      "horse\n",
      "178286\n",
      "178062\n",
      "156113\n",
      "dt_sec\n",
      "stroke_count\n"
     ]
    }
   ],
   "source": [
    "#keys = ['bird', 'flamingo', 'owl', 'duck']\n",
    "#metrics = {'hist': 'dt_sec'}\n",
    "\n",
    "#keys = ['dog', 'cat']\n",
    "#metrics = {'hist': 'dt_sec', 'hist_total': 't_sec', 'hist_pause': 'dp_sec'}\n",
    "\n",
    "#keys = ['ant', 'mosquito', 'butterfly', 'scorpion']\n",
    "#metrics = {'hist': 'dt_sec'}\n",
    "\n",
    "#keys = ['circle', 'squiggle', 'triangle', 'square',]\n",
    "#metrics = {'hist': 'dt_sec'}\n",
    "\n",
    "keys = ['dog', 'cat', 'horse']\n",
    "metrics = {'hist': 'dt_sec', 'hist_stroke': 'stroke_count'}\n",
    "\n",
    "\n",
    "output = {\"keys\": keys}\n",
    "\n",
    "for key_id in keys:\n",
    "    print(key_id)\n",
    "    \n",
    "    \n",
    "    filename = \"data/\" + key_id +\".stats.csv\"\n",
    "    data = prepare_data(filename)\n",
    "    output[key_id] = {}\n",
    "    \n",
    "    for out_key, metric in metrics.items():\n",
    "        \n",
    "        bins = bin_data(data, metric)\n",
    "    \n",
    "    \n",
    "        hist = to_hist(bins)\n",
    "    \n",
    "    \n",
    "        output[key_id][out_key] = hist\n",
    "        output[key_id][metric + '_mean'] = data[metric].mean()\n",
    "        output[key_id][metric + '_quans'] = list(data[metric].quantile([0.25, 0.5, 0.75]))\n",
    "    output[key_id]['drawings'] = get_drawings(key_id, 'dt_sec_floor', data, 1000, 25)\n",
    "    #output[key_id]['drawings_strokes'] = get_drawings(key_id, 'stroke_count_floor', data, 20, 25)\n",
    "write_results(output)"
   ]
  },
  {
   "cell_type": "code",
   "execution_count": 74,
   "metadata": {},
   "outputs": [
    {
     "data": {
      "text/plain": [
       "5.474867421777101"
      ]
     },
     "execution_count": 74,
     "metadata": {},
     "output_type": "execute_result"
    }
   ],
   "source": [
    "data['dt_sec'].mean()"
   ]
  },
  {
   "cell_type": "code",
   "execution_count": null,
   "metadata": {
    "collapsed": true
   },
   "outputs": [],
   "source": []
  },
  {
   "cell_type": "code",
   "execution_count": 14,
   "metadata": {},
   "outputs": [],
   "source": [
    "#get_drawings(key_id, data, 20, 25)\n",
    "ddd = get_drawings_dict('dog')"
   ]
  },
  {
   "cell_type": "code",
   "execution_count": 17,
   "metadata": {},
   "outputs": [
    {
     "data": {
      "text/plain": [
       "'6718004173733888'"
      ]
     },
     "execution_count": 17,
     "metadata": {},
     "output_type": "execute_result"
    }
   ],
   "source": [
    "list(ddd.keys())[0]"
   ]
  },
  {
   "cell_type": "code",
   "execution_count": 117,
   "metadata": {},
   "outputs": [
    {
     "name": "stdout",
     "output_type": "stream",
     "text": [
      "0.0\n",
      "1.0\n",
      "2.0\n",
      "3.0\n",
      "4.0\n",
      "5.0\n",
      "6.0\n",
      "7.0\n",
      "8.0\n",
      "9.0\n",
      "10.0\n",
      "11.0\n",
      "12.0\n",
      "13.0\n",
      "14.0\n",
      "15.0\n",
      "16.0\n",
      "17.0\n",
      "18.0\n",
      "19.0\n",
      "20.0\n",
      "21.0\n",
      "22.0\n",
      "23.0\n",
      "24.0\n",
      "26.0\n",
      "27.0\n",
      "29.0\n",
      "30.0\n",
      "44.0\n",
      "69.0\n"
     ]
    }
   ],
   "source": [
    "\n",
    "#hist = bins.T.to_dict().values()\n",
    "# for val in hist:\n",
    "#     print(val['x0'])\n",
    "#sizes.reset_index()\n",
    "#sizes.columns()\n",
    "#sizes = pd.DataFrame(data =counts)\n",
    "\n",
    "#counts.columns('x0', 'count')\n",
    "#sizes.columns('x0')\n",
    "#bins['freq'] = bins['key_id'] / data['key_id'].count()"
   ]
  },
  {
   "cell_type": "code",
   "execution_count": 34,
   "metadata": {},
   "outputs": [],
   "source": [
    "#sizes.plot.bar(x = 'x0', y = 'freq')"
   ]
  },
  {
   "cell_type": "code",
   "execution_count": 8,
   "metadata": {
    "collapsed": true
   },
   "outputs": [],
   "source": []
  }
 ],
 "metadata": {
  "kernelspec": {
   "display_name": "Python 3",
   "language": "python",
   "name": "python3"
  },
  "language_info": {
   "codemirror_mode": {
    "name": "ipython",
    "version": 3
   },
   "file_extension": ".py",
   "mimetype": "text/x-python",
   "name": "python",
   "nbconvert_exporter": "python",
   "pygments_lexer": "ipython3",
   "version": "3.6.1"
  }
 },
 "nbformat": 4,
 "nbformat_minor": 2
}
